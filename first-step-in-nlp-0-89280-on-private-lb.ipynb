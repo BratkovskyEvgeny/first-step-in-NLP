{
 "cells": [
  {
   "cell_type": "code",
   "execution_count": null,
   "id": "83a3658f",
   "metadata": {
    "id": "8vyPAH_VqD0y",
    "outputId": "967922d7-8ea6-450d-f798-c47b06787eff",
    "papermill": {
     "duration": null,
     "end_time": null,
     "exception": false,
     "start_time": "2024-01-08T09:10:43.914708",
     "status": "running"
    },
    "tags": []
   },
   "outputs": [],
   "source": [
    "# Установка библиотек\n",
    "!pip install bs4\n",
    "!pip install openpyxl"
   ]
  },
  {
   "cell_type": "code",
   "execution_count": null,
   "id": "c18e87bf",
   "metadata": {
    "id": "l2Ymzn3_qE9q",
    "papermill": {
     "duration": null,
     "end_time": null,
     "exception": null,
     "start_time": null,
     "status": "pending"
    },
    "tags": []
   },
   "outputs": [],
   "source": [
    "# Импорт библиотек\n",
    "import requests as rq\n",
    "from bs4 import BeautifulSoup as bs\n",
    "import pandas as pd\n",
    "import numpy as np\n",
    "from datetime import datetime, timedelta\n",
    "from IPython import display"
   ]
  },
  {
   "cell_type": "code",
   "execution_count": null,
   "id": "778b884e",
   "metadata": {
    "id": "dkQr15ZHqzgF",
    "papermill": {
     "duration": null,
     "end_time": null,
     "exception": null,
     "start_time": null,
     "status": "pending"
    },
    "tags": []
   },
   "outputs": [],
   "source": [
    "class lentaRu_parser:\n",
    "    def __init__(self):\n",
    "        pass\n",
    "\n",
    "    def _get_url(self, param_dict: dict) -> str:\n",
    "        \"\"\"\n",
    "        Возвращает URL для запроса json таблицы со статьями\n",
    "\n",
    "        url = 'https://lenta.ru/search/v2/process?'\\\n",
    "        + 'from=0&'\\                       # Смещение\n",
    "        + 'size=1000&'\\                    # Кол-во статей\n",
    "        + 'sort=2&'\\                       # Сортировка по дате (2), по релевантности (1)\n",
    "        + 'title_only=0&'\\                 # Точная фраза в заголовке\n",
    "        + 'domain=1&'\\                     # ??\n",
    "        + 'modified%2Cformat=yyyy-MM-dd&'\\ # Формат даты\n",
    "        + 'type=1&'\\                       # Материалы. Все материалы (0). Новость (1)\n",
    "        + 'bloc=4&'\\                       # Рубрика. Экономика (4). Все рубрики (0)\n",
    "        + 'modified%2Cfrom=2020-01-01&'\\\n",
    "        + 'modified%2Cto=2020-11-01&'\\\n",
    "        + 'query='                         # Поисковой запрос\n",
    "        \"\"\"\n",
    "        hasType = int(param_dict['type']) != 0\n",
    "        hasBloc = int(param_dict['bloc']) != 0\n",
    "\n",
    "        url = 'https://lenta.ru/search/v2/process?'\\\n",
    "        + 'from={}&'.format(param_dict['from'])\\\n",
    "        + 'size={}&'.format(param_dict['size'])\\\n",
    "        + 'sort={}&'.format(param_dict['sort'])\\\n",
    "        + 'title_only={}&'.format(param_dict['title_only'])\\\n",
    "        + 'domain={}&'.format(param_dict['domain'])\\\n",
    "        + 'modified%2Cformat=yyyy-MM-dd&'\\\n",
    "        + 'type={}&'.format(param_dict['type']) * hasType\\\n",
    "        + 'bloc={}&'.format(param_dict['bloc']) * hasBloc\\\n",
    "        + 'modified%2Cfrom={}&'.format(param_dict['dateFrom'])\\\n",
    "        + 'modified%2Cto={}&'.format(param_dict['dateTo'])\\\n",
    "        + 'query={}'.format(param_dict['query'])\n",
    "\n",
    "        return url\n",
    "\n",
    "\n",
    "    def _get_search_table(self, param_dict: dict) -> pd.DataFrame:\n",
    "        \"\"\"\n",
    "        Возвращает pd.DataFrame со списком статей\n",
    "        \"\"\"\n",
    "        url = self._get_url(param_dict)\n",
    "        r = rq.get(url)\n",
    "        search_table = pd.DataFrame(r.json()['matches'])\n",
    "\n",
    "        return search_table\n",
    "\n",
    "\n",
    "    def get_articles(self,\n",
    "                     param_dict,\n",
    "                     time_step = 1,\n",
    "                     save_every = 5,\n",
    "                     save_excel = True) -> pd.DataFrame:\n",
    "        \"\"\"\n",
    "        Функция для скачивания статей интервалами через каждые time_step дней\n",
    "        Делает сохранение таблицы через каждые save_every * time_step дней\n",
    "\n",
    "        param_dict: dict\n",
    "        ### Параметры запроса\n",
    "        ###### project - раздел поиска, например, rbcnews\n",
    "        ###### category - категория поиска, например, TopRbcRu_economics\n",
    "        ###### dateFrom - с даты\n",
    "        ###### dateTo - по дату\n",
    "        ###### offset - смещение поисковой выдачи\n",
    "        ###### limit - лимит статей, максимум 100\n",
    "        ###### query - поисковой запрос (ключевое слово), например, РБК\n",
    "\n",
    "        \"\"\"\n",
    "        param_copy = param_dict.copy()\n",
    "        time_step = timedelta(days=time_step)\n",
    "        dateFrom = datetime.strptime(param_copy['dateFrom'], '%Y-%m-%d')\n",
    "        dateTo = datetime.strptime(param_copy['dateTo'], '%Y-%m-%d')\n",
    "        if dateFrom > dateTo:\n",
    "            raise ValueError('dateFrom should be less than dateTo')\n",
    "\n",
    "        out = pd.DataFrame()\n",
    "        save_counter = 0\n",
    "\n",
    "        while dateFrom <= dateTo:\n",
    "            param_copy['dateTo'] = (dateFrom + time_step).strftime('%Y-%m-%d')\n",
    "            if dateFrom + time_step > dateTo:\n",
    "                param_copy['dateTo'] = dateTo.strftime('%Y-%m-%d')\n",
    "            print('Parsing articles from '\\\n",
    "                  + param_copy['dateFrom'] +  ' to ' + param_copy['dateTo'])\n",
    "            out = out.append(self._get_search_table(param_copy), ignore_index=True)\n",
    "            dateFrom += time_step + timedelta(days=1)\n",
    "            param_copy['dateFrom'] = dateFrom.strftime('%Y-%m-%d')\n",
    "            save_counter += 1\n",
    "            if save_counter == save_every:\n",
    "                display.clear_output(wait=True)\n",
    "                out.to_excel(\"/tmp/checkpoint_table.xlsx\")\n",
    "                print('Checkpoint saved!')\n",
    "                save_counter = 0\n",
    "\n",
    "        if save_excel:\n",
    "            out.to_excel(\"lenta_{}_{}.xlsx\".format(\n",
    "                param_dict['dateFrom'],\n",
    "                param_dict['dateTo']))\n",
    "        print('Finish')\n",
    "\n",
    "        return out"
   ]
  },
  {
   "cell_type": "code",
   "execution_count": null,
   "id": "10c1c8cc",
   "metadata": {
    "id": "3XS3oCuxqoby",
    "outputId": "425b000e-8dee-43cb-febe-7b5a5b67b60f",
    "papermill": {
     "duration": null,
     "end_time": null,
     "exception": null,
     "start_time": null,
     "status": "pending"
    },
    "tags": []
   },
   "outputs": [],
   "source": [
    "\n",
    "query = ''\n",
    "offset = 0\n",
    "size = 1000\n",
    "sort = \"3\"\n",
    "title_only = \"0\"\n",
    "domain = \"1\"\n",
    "material = \"0\"\n",
    "bloc = \"0\"\n",
    "dateFrom = '2020-01-01'\n",
    "dateTo = \"2023-12-31\"\n",
    "# Сразу за несколько лет данные не спарсились, были периодически разные ошибки в Colab, в т.ч. разрыв соединения.\n",
    "# Пришлось дробить парсинг по годам(2019, 2020, 2021, 2022, 2023).В вышеуказанном коде просто измените период.\n",
    "param_dict = {'query'     : query,\n",
    "              'from'      : str(offset),\n",
    "              'size'      : str(size),\n",
    "              'dateFrom'  : dateFrom,\n",
    "              'dateTo'    : dateTo,\n",
    "              'sort'      : sort,\n",
    "              'title_only': title_only,\n",
    "              'type'      : material,\n",
    "              'bloc'      : bloc,\n",
    "              'domain'    : domain}\n",
    "\n",
    "print(\"param_dict:\", param_dict)"
   ]
  },
  {
   "cell_type": "code",
   "execution_count": null,
   "id": "0f56583b",
   "metadata": {
    "id": "U5m9rdzKqyC3",
    "papermill": {
     "duration": null,
     "end_time": null,
     "exception": null,
     "start_time": null,
     "status": "pending"
    },
    "tags": []
   },
   "outputs": [],
   "source": [
    "\n",
    "\n",
    "parser = lentaRu_parser()\n",
    "\n",
    "tbl = parser.get_articles(param_dict=param_dict,\n",
    "                         time_step = 1,\n",
    "                         save_every = 25,\n",
    "                         save_excel = True)\n",
    "print(len(tbl.index))\n",
    "tbl.head()"
   ]
  },
  {
   "cell_type": "code",
   "execution_count": null,
   "id": "eadf08a1",
   "metadata": {
    "id": "4dJ5S2Zt8QdV",
    "papermill": {
     "duration": null,
     "end_time": null,
     "exception": null,
     "start_time": null,
     "status": "pending"
    },
    "tags": []
   },
   "outputs": [],
   "source": [
    "tbl.to_csv(\"Lenta.csv\", index=False)"
   ]
  },
  {
   "cell_type": "code",
   "execution_count": null,
   "id": "4c21e712",
   "metadata": {
    "id": "pfDDdsqf_nRp",
    "outputId": "8f885854-a42c-403c-b694-a6d850cc6cea",
    "papermill": {
     "duration": null,
     "end_time": null,
     "exception": null,
     "start_time": null,
     "status": "pending"
    },
    "tags": []
   },
   "outputs": [],
   "source": [
    "from google.colab import drive\n",
    "drive.mount('/content/drive')"
   ]
  },
  {
   "cell_type": "code",
   "execution_count": null,
   "id": "a945463c",
   "metadata": {
    "id": "l2eHBaBIIpZk",
    "papermill": {
     "duration": null,
     "end_time": null,
     "exception": null,
     "start_time": null,
     "status": "pending"
    },
    "tags": []
   },
   "outputs": [],
   "source": [
    "tbl_1 = pd.read_csv(\"/content/drive/MyDrive/first_step_in_nlp/Lenta_2022.csv\")"
   ]
  },
  {
   "cell_type": "code",
   "execution_count": null,
   "id": "561055ed",
   "metadata": {
    "id": "sk8m4_2B0Yo0",
    "papermill": {
     "duration": null,
     "end_time": null,
     "exception": null,
     "start_time": null,
     "status": "pending"
    },
    "tags": []
   },
   "outputs": [],
   "source": [
    "#tbl_1.isna()"
   ]
  },
  {
   "cell_type": "code",
   "execution_count": null,
   "id": "8798f631",
   "metadata": {
    "id": "Q_Q1BvxnIpT5",
    "papermill": {
     "duration": null,
     "end_time": null,
     "exception": null,
     "start_time": null,
     "status": "pending"
    },
    "tags": []
   },
   "outputs": [],
   "source": [
    "tbl_2 = pd.read_csv(\"/content/drive/MyDrive/first_step_in_nlp/Lenta_2023.csv\")"
   ]
  },
  {
   "cell_type": "code",
   "execution_count": null,
   "id": "2e44e3c3",
   "metadata": {
    "id": "RXRjOk4YqmOh",
    "papermill": {
     "duration": null,
     "end_time": null,
     "exception": null,
     "start_time": null,
     "status": "pending"
    },
    "tags": []
   },
   "outputs": [],
   "source": [
    "tbl_3 = pd.read_csv(\"/content/drive/MyDrive/first_step_in_nlp/Lenta_2021.csv\")"
   ]
  },
  {
   "cell_type": "code",
   "execution_count": null,
   "id": "de244d70",
   "metadata": {
    "id": "pJ9S2R8w3jvm",
    "papermill": {
     "duration": null,
     "end_time": null,
     "exception": null,
     "start_time": null,
     "status": "pending"
    },
    "tags": []
   },
   "outputs": [],
   "source": [
    "tbl_4 = pd.read_csv(\"/content/drive/MyDrive/first_step_in_nlp/Lenta_2020.csv\")"
   ]
  },
  {
   "cell_type": "code",
   "execution_count": null,
   "id": "3b5d8fa4",
   "metadata": {
    "id": "QFMaQTWR7ilx",
    "papermill": {
     "duration": null,
     "end_time": null,
     "exception": null,
     "start_time": null,
     "status": "pending"
    },
    "tags": []
   },
   "outputs": [],
   "source": [
    "#tbl_5 = pd.read_csv(\"/content/drive/MyDrive/first_step_in_nlp/Lenta_2019.csv\")\n",
    "# 2019 год выбросил, так как качество было хуже."
   ]
  },
  {
   "cell_type": "code",
   "execution_count": null,
   "id": "b6f2f2b7",
   "metadata": {
    "id": "ty8muBM0JK4M",
    "outputId": "f6483036-549f-4137-acca-dbc5e8ccabb7",
    "papermill": {
     "duration": null,
     "end_time": null,
     "exception": null,
     "start_time": null,
     "status": "pending"
    },
    "tags": []
   },
   "outputs": [],
   "source": [
    "tbl_4.shape"
   ]
  },
  {
   "cell_type": "code",
   "execution_count": null,
   "id": "5f62b93c",
   "metadata": {
    "id": "I_G8WRbFIv9d",
    "papermill": {
     "duration": null,
     "end_time": null,
     "exception": null,
     "start_time": null,
     "status": "pending"
    },
    "tags": []
   },
   "outputs": [],
   "source": [
    "#tbl = pd.concat([tbl_1, tbl_2, tbl_3, tbl_4, tbl_5],ignore_index=True )\n",
    "tbl = pd.concat([tbl_1, tbl_2, tbl_3, tbl_4],ignore_index=True )"
   ]
  },
  {
   "cell_type": "code",
   "execution_count": null,
   "id": "19f58ee3",
   "metadata": {
    "id": "82IBfolnq6B2",
    "outputId": "abf4e000-9e18-4514-8234-a19f1ff0e717",
    "papermill": {
     "duration": null,
     "end_time": null,
     "exception": null,
     "start_time": null,
     "status": "pending"
    },
    "tags": []
   },
   "outputs": [],
   "source": [
    "tbl.shape"
   ]
  },
  {
   "cell_type": "code",
   "execution_count": null,
   "id": "e6f387de",
   "metadata": {
    "id": "QLznYABOrlPd",
    "outputId": "66b3a2ae-1488-4eb8-bb2e-9174047f5766",
    "papermill": {
     "duration": null,
     "end_time": null,
     "exception": null,
     "start_time": null,
     "status": "pending"
    },
    "tags": []
   },
   "outputs": [],
   "source": [
    "tbl['bloc'].value_counts(normalize=True)"
   ]
  },
  {
   "cell_type": "markdown",
   "id": "75abfeb3",
   "metadata": {
    "id": "WtKnmv28dn4v",
    "papermill": {
     "duration": null,
     "end_time": null,
     "exception": null,
     "start_time": null,
     "status": "pending"
    },
    "tags": []
   },
   "source": [
    "Найдем соответствие между кодом блока, его названием и кодом в соревновании:\n",
    "\n",
    "* 1 - Россия - 0\n",
    "* 37 - Силовые структуры - 2\n",
    "* 3 - Бывший СССР - 3\n",
    "* 4 - Экономика - 1\n",
    "* 5 - Наука и техника - 8\n",
    "* 8 - Спорт - 4\n",
    "* 48 - Туризм - 7\n",
    "* 87 - Здоровье - 5"
   ]
  },
  {
   "cell_type": "code",
   "execution_count": null,
   "id": "f14af8c5",
   "metadata": {
    "id": "aPIO51EY3pqW",
    "outputId": "108cca56-a36a-4d95-eb35-124158a93561",
    "papermill": {
     "duration": null,
     "end_time": null,
     "exception": null,
     "start_time": null,
     "status": "pending"
    },
    "tags": []
   },
   "outputs": [],
   "source": [
    "tbl[tbl.bloc == 3].iloc[0]"
   ]
  },
  {
   "cell_type": "code",
   "execution_count": null,
   "id": "49364861",
   "metadata": {
    "id": "OJ8gKZzfyy5f",
    "outputId": "48509f16-c1e6-4dea-d839-0d5801177950",
    "papermill": {
     "duration": null,
     "end_time": null,
     "exception": null,
     "start_time": null,
     "status": "pending"
    },
    "tags": []
   },
   "outputs": [],
   "source": [
    "tbl = tbl[tbl.bloc.isin([1, 37, 3, 4, 5, 8, 48, 87])]\n",
    "\n",
    "TagsMap = {1 : 0, 3 : 3, 4 : 1, 5 : 8, 8 : 4, 37 : 2, 48 : 7, 87 : 5}\n",
    "\n",
    "tbl['topic'] = tbl['bloc'].map(TagsMap)"
   ]
  },
  {
   "cell_type": "code",
   "execution_count": null,
   "id": "f78aabb9",
   "metadata": {
    "id": "QwrqbV2ErxkV",
    "outputId": "6cfae960-ea30-470f-a659-064a01579ba6",
    "papermill": {
     "duration": null,
     "end_time": null,
     "exception": null,
     "start_time": null,
     "status": "pending"
    },
    "tags": []
   },
   "outputs": [],
   "source": [
    "tbl.shape"
   ]
  },
  {
   "cell_type": "code",
   "execution_count": null,
   "id": "a24060bf",
   "metadata": {
    "id": "91u_bGP8dJMR",
    "outputId": "3d25aff6-b01a-476f-b6b2-f8a66c976a52",
    "papermill": {
     "duration": null,
     "end_time": null,
     "exception": null,
     "start_time": null,
     "status": "pending"
    },
    "tags": []
   },
   "outputs": [],
   "source": [
    "tbl['topic'].value_counts(normalize=True)"
   ]
  },
  {
   "cell_type": "markdown",
   "id": "28cbba5d",
   "metadata": {
    "id": "Koh_nTAAT3O4",
    "papermill": {
     "duration": null,
     "end_time": null,
     "exception": null,
     "start_time": null,
     "status": "pending"
    },
    "tags": []
   },
   "source": [
    "## 2. Машинное обучение"
   ]
  },
  {
   "cell_type": "markdown",
   "id": "98fc3e4a",
   "metadata": {
    "id": "fbnd_-vt9fiM",
    "papermill": {
     "duration": null,
     "end_time": null,
     "exception": null,
     "start_time": null,
     "status": "pending"
    },
    "tags": []
   },
   "source": [
    "Загружаем данные и обучаем модель на разбиении трейн-тест"
   ]
  },
  {
   "cell_type": "code",
   "execution_count": null,
   "id": "1dfc69a3",
   "metadata": {
    "id": "v6B0NUAm1YWv",
    "outputId": "f67a83c0-3bb4-4e39-a816-f96635da2f5b",
    "papermill": {
     "duration": null,
     "end_time": null,
     "exception": null,
     "start_time": null,
     "status": "pending"
    },
    "tags": []
   },
   "outputs": [],
   "source": [
    "tbl_new = tbl[~tbl.text.isna()]\n",
    "\n",
    "print(len(tbl), len(tbl_new))"
   ]
  },
  {
   "cell_type": "code",
   "execution_count": null,
   "id": "0bd06f23",
   "metadata": {
    "id": "4rTBpS9S0xgB",
    "outputId": "79a860e0-8a59-40aa-b41a-2031be7b4c3f",
    "papermill": {
     "duration": null,
     "end_time": null,
     "exception": null,
     "start_time": null,
     "status": "pending"
    },
    "tags": []
   },
   "outputs": [],
   "source": [
    "tbl_new.shape"
   ]
  },
  {
   "cell_type": "code",
   "execution_count": null,
   "id": "bef9f9a2",
   "metadata": {
    "id": "sNgTnO9FUbp9",
    "outputId": "fe0e58eb-b0ae-4452-bd67-b7eac9b76798",
    "papermill": {
     "duration": null,
     "end_time": null,
     "exception": null,
     "start_time": null,
     "status": "pending"
    },
    "tags": []
   },
   "outputs": [],
   "source": [
    "X = tbl_new[['text']]\n",
    "y = tbl_new['topic']\n",
    "\n",
    "X.shape"
   ]
  },
  {
   "cell_type": "code",
   "execution_count": null,
   "id": "14df4cba",
   "metadata": {
    "id": "C67p6HUpUVK1",
    "papermill": {
     "duration": null,
     "end_time": null,
     "exception": null,
     "start_time": null,
     "status": "pending"
    },
    "tags": []
   },
   "outputs": [],
   "source": [
    "from sklearn.model_selection import train_test_split\n",
    "\n",
    "X_train, X_test, y_train, y_test = train_test_split(X, y, test_size=0.2, stratify=y, random_state=42)#"
   ]
  },
  {
   "cell_type": "code",
   "execution_count": null,
   "id": "a97d1384",
   "metadata": {
    "id": "wgBMl9ub07GR",
    "outputId": "f3d9bb1b-2463-42b5-89de-d70f020500ea",
    "papermill": {
     "duration": null,
     "end_time": null,
     "exception": null,
     "start_time": null,
     "status": "pending"
    },
    "tags": []
   },
   "outputs": [],
   "source": [
    "X_train.shape, X_test.shape"
   ]
  },
  {
   "cell_type": "code",
   "execution_count": null,
   "id": "4a1f88e0",
   "metadata": {
    "id": "dz565IlqUF0l",
    "outputId": "8b0e3148-5088-465f-b84b-fbfb35cc81b5",
    "papermill": {
     "duration": null,
     "end_time": null,
     "exception": null,
     "start_time": null,
     "status": "pending"
    },
    "tags": []
   },
   "outputs": [],
   "source": [
    "from sklearn.feature_extraction.text import CountVectorizer\n",
    "from sklearn.preprocessing import MaxAbsScaler\n",
    "from sklearn.linear_model import LogisticRegression\n",
    "from sklearn.metrics import classification_report\n",
    "\n",
    "vec = CountVectorizer()\n",
    "vec.fit(X_train['text'])\n",
    "\n",
    "bow = vec.transform(X_train['text'])\n",
    "bow_test = vec.transform(X_test['text'])\n",
    "\n",
    "print(bow.shape)\n",
    "\n",
    "scaler = MaxAbsScaler()\n",
    "bow = scaler.fit_transform(bow)\n",
    "bow_test = scaler.transform(bow_test)\n",
    "\n",
    "clf = LogisticRegression(max_iter=200, random_state=42, solver='newton-cg')\n",
    "clf.fit(bow, y_train)\n",
    "pred = clf.predict(bow_test)\n",
    "\n",
    "print(classification_report(y_test, pred))"
   ]
  },
  {
   "cell_type": "code",
   "execution_count": null,
   "id": "278ea225",
   "metadata": {
    "id": "D5e9xAnG9UB1",
    "papermill": {
     "duration": null,
     "end_time": null,
     "exception": null,
     "start_time": null,
     "status": "pending"
    },
    "tags": []
   },
   "outputs": [],
   "source": [
    "#!pip install catboost"
   ]
  },
  {
   "cell_type": "code",
   "execution_count": null,
   "id": "fefaeeee",
   "metadata": {
    "id": "8igK_7Nf-ZCq",
    "papermill": {
     "duration": null,
     "end_time": null,
     "exception": null,
     "start_time": null,
     "status": "pending"
    },
    "tags": []
   },
   "outputs": [],
   "source": [
    "#!pip install optuna"
   ]
  },
  {
   "cell_type": "code",
   "execution_count": null,
   "id": "98e24361",
   "metadata": {
    "id": "Rxa0-A7wTr39",
    "papermill": {
     "duration": null,
     "end_time": null,
     "exception": null,
     "start_time": null,
     "status": "pending"
    },
    "tags": []
   },
   "outputs": [],
   "source": [
    "'''\n",
    "from sklearn.feature_extraction.text import CountVectorizer\n",
    "from sklearn.preprocessing import MaxAbsScaler\n",
    "from sklearn.linear_model import LogisticRegression\n",
    "from sklearn.metrics import classification_report\n",
    "from catboost import CatBoostClassifier\n",
    "\n",
    "vec = CountVectorizer() # подбор гиперпараметров очень помогает\n",
    "vec.fit(X_train['text'])\n",
    "\n",
    "bow = vec.transform(X_train['text'])  # bow — bag of words (мешок слов)\n",
    "bow_test = vec.transform(X_test['text'])\n",
    "\n",
    "print(bow.shape)\n",
    "\n",
    "scaler = MaxAbsScaler()\n",
    "bow = scaler.fit_transform(bow)\n",
    "bow_test = scaler.transform(bow_test)\n",
    "\n",
    "clf = CatBoostClassifier(random_state=42)\n",
    "clf.fit(bow, y_train)\n",
    "pred = clf.predict(bow_test)\n",
    "\n",
    "print(classification_report(y_test, pred))\n",
    "'''"
   ]
  },
  {
   "cell_type": "code",
   "execution_count": null,
   "id": "88a53e5a",
   "metadata": {
    "id": "CFn0APac-pif",
    "papermill": {
     "duration": null,
     "end_time": null,
     "exception": null,
     "start_time": null,
     "status": "pending"
    },
    "tags": []
   },
   "outputs": [],
   "source": [
    "'''\n",
    "import optuna\n",
    "from sklearn.model_selection import train_test_split\n",
    "from sklearn.metrics import classification_report\n",
    "from sklearn.feature_extraction.text import CountVectorizer\n",
    "from sklearn.preprocessing import MaxAbsScaler\n",
    "from catboost import CatBoostClassifier\n",
    "\n",
    "# Assuming X_train, X_test, y_train, and y_test are already defined\n",
    "\n",
    "# Step 1: Train-Test Split\n",
    "X_train, X_test, y_train, y_test = train_test_split(X, y, test_size=0.2, random_state=42, stratify=y)\n",
    "\n",
    "# Step 2: Text Vectorization using CountVectorizer\n",
    "vec = CountVectorizer()\n",
    "vec.fit(X_train['text'])\n",
    "\n",
    "bow_train = vec.transform(X_train['text'])\n",
    "bow_test = vec.transform(X_test['text'])\n",
    "\n",
    "# Step 3: Scaling using MaxAbsScaler\n",
    "scaler = MaxAbsScaler()\n",
    "bow_train = scaler.fit_transform(bow_train)\n",
    "bow_test = scaler.transform(bow_test)\n",
    "\n",
    "# Step 4: Define Objective Function for Optuna\n",
    "def objective(trial):\n",
    "    params = {\n",
    "        'iterations': trial.suggest_int('iterations', 100, 1000),\n",
    "        'learning_rate': trial.suggest_loguniform('learning_rate', 0.001, 0.1),\n",
    "        'depth': trial.suggest_int('depth', 5, 10),\n",
    "        # Add more hyperparameters as needed\n",
    "    }\n",
    "\n",
    "    model = CatBoostClassifier(**params, random_state=42, silent=True)\n",
    "    model.fit(bow_train, y_train)\n",
    "    pred = model.predict(bow_test)\n",
    "    score = classification_report(y_test, pred, output_dict=True)['accuracy']\n",
    "    return score\n",
    "\n",
    "# Step 5: Run Optuna Optimization\n",
    "study = optuna.create_study(direction='maximize')\n",
    "study.optimize(objective, n_trials=100)\n",
    "\n",
    "# Step 6: Get Best Hyperparameters\n",
    "best_params = study.best_params\n",
    "\n",
    "# Step 7: Train CatBoost with Best Hyperparameters\n",
    "best_model = CatBoostClassifier(**best_params, random_state=42, silent=True)\n",
    "best_model.fit(bow_train, y_train)\n",
    "pred = best_model.predict(bow_test)\n",
    "\n",
    "# Step 8: Evaluate the Model\n",
    "print(classification_report(y_test, pred))\n",
    "print(\"Best Hyperparameters:\", best_params)\n",
    "'''\n"
   ]
  },
  {
   "cell_type": "markdown",
   "id": "a3e7a132",
   "metadata": {
    "id": "IcQNOxb_9Gzm",
    "papermill": {
     "duration": null,
     "end_time": null,
     "exception": null,
     "start_time": null,
     "status": "pending"
    },
    "tags": []
   },
   "source": [
    "Загружаем тестовые данные, обучаем итоговую модель и делаем прогноз."
   ]
  },
  {
   "cell_type": "code",
   "execution_count": null,
   "id": "d1962bb3",
   "metadata": {
    "id": "cAIkScdK12Iy",
    "outputId": "ec1c3b00-431d-4e27-8f33-0fc0f9e6fd1e",
    "papermill": {
     "duration": null,
     "end_time": null,
     "exception": null,
     "start_time": null,
     "status": "pending"
    },
    "tags": []
   },
   "outputs": [],
   "source": [
    "Test = pd.read_csv(\"/content/test_news.csv\")\n",
    "Test"
   ]
  },
  {
   "cell_type": "code",
   "execution_count": null,
   "id": "562488cc",
   "metadata": {
    "id": "XvsJnWcH1wdX",
    "papermill": {
     "duration": null,
     "end_time": null,
     "exception": null,
     "start_time": null,
     "status": "pending"
    },
    "tags": []
   },
   "outputs": [],
   "source": [
    "from sklearn.feature_extraction.text import CountVectorizer\n",
    "from sklearn.preprocessing import MaxAbsScaler\n",
    "from sklearn.linear_model import LogisticRegression\n",
    "from sklearn.metrics import classification_report\n",
    "\n",
    "vec = CountVectorizer()\n",
    "vec.fit(X['text'])\n",
    "\n",
    "bow = vec.transform(X['text'])\n",
    "bow_test = vec.transform(Test['content'])\n",
    "\n",
    "scaler = MaxAbsScaler()\n",
    "bow = scaler.fit_transform(bow)\n",
    "bow_test = scaler.transform(bow_test)\n",
    "\n",
    "clf = LogisticRegression(max_iter=200, random_state=42, solver='newton-cg')\n",
    "clf.fit(bow, y)\n",
    "pred = clf.predict(bow_test)"
   ]
  },
  {
   "cell_type": "code",
   "execution_count": null,
   "id": "ad5eb486",
   "metadata": {
    "id": "Tf6ECdCk2Fpj",
    "outputId": "c4c0c7de-74be-4ae2-e73c-0914a1af14f6",
    "papermill": {
     "duration": null,
     "end_time": null,
     "exception": null,
     "start_time": null,
     "status": "pending"
    },
    "tags": []
   },
   "outputs": [],
   "source": [
    "pred[:10], len(pred)"
   ]
  },
  {
   "cell_type": "markdown",
   "id": "743195ed",
   "metadata": {
    "id": "0UaDcHvO9T6O",
    "papermill": {
     "duration": null,
     "end_time": null,
     "exception": null,
     "start_time": null,
     "status": "pending"
    },
    "tags": []
   },
   "source": [
    "Сохраняем прогноз в файл."
   ]
  },
  {
   "cell_type": "code",
   "execution_count": null,
   "id": "98449186",
   "metadata": {
    "id": "WqfLq_ID2L8K",
    "outputId": "eb932731-1960-4c0a-a5f6-ca3fa2215b7c",
    "papermill": {
     "duration": null,
     "end_time": null,
     "exception": null,
     "start_time": null,
     "status": "pending"
    },
    "tags": []
   },
   "outputs": [],
   "source": [
    "subm = pd.read_csv(\"base_submission_news.csv\")\n",
    "subm.head()"
   ]
  },
  {
   "cell_type": "code",
   "execution_count": null,
   "id": "c5ee77e4",
   "metadata": {
    "id": "O8YEhjhh6-wz",
    "papermill": {
     "duration": null,
     "end_time": null,
     "exception": null,
     "start_time": null,
     "status": "pending"
    },
    "tags": []
   },
   "outputs": [],
   "source": [
    "subm['topic'] = pred\n",
    "\n",
    "subm.to_csv(\"bow_logreg_lenta13.csv\", index=False)"
   ]
  }
 ],
 "metadata": {
  "colab": {
   "provenance": []
  },
  "kaggle": {
   "accelerator": "none",
   "dataSources": [
    {
     "databundleVersionId": 7343125,
     "sourceId": 66532,
     "sourceType": "competition"
    }
   ],
   "isGpuEnabled": false,
   "isInternetEnabled": true,
   "language": "python",
   "sourceType": "notebook"
  },
  "kernelspec": {
   "display_name": "Python 3",
   "name": "python3"
  },
  "language_info": {
   "name": "python"
  },
  "papermill": {
   "default_parameters": {},
   "duration": null,
   "end_time": null,
   "environment_variables": {},
   "exception": null,
   "input_path": "__notebook__.ipynb",
   "output_path": "__notebook__.ipynb",
   "parameters": {},
   "start_time": "2024-01-08T09:10:41.127003",
   "version": "2.4.0"
  }
 },
 "nbformat": 4,
 "nbformat_minor": 5
}
